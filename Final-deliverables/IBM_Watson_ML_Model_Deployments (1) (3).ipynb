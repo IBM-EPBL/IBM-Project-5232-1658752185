{
 "cells": [
  {
   "cell_type": "markdown",
   "metadata": {
    "id": "ig74tsQsG5o_"
   },
   "source": [
    "## COMPARING SOME FUNDAMENTAL REGRESSION METHODS ON ADMISSION PREDICTION DATA AND DEPLOYING ML MODEL TO IBM CLOUD"
   ]
  },
  {
   "cell_type": "markdown",
   "metadata": {
    "id": "J6i5LAZGHEL5"
   },
   "source": [
    "There are lots of regression methods to predict data such as Linear Regression, Decision Tree Regression and so on. In this notebook, we will try to predict the \"Chance of Admit\" data by using some of fundamental regression methods, which are Linear Regression, Multiple Linear Regression, Decision Tree Regression and Random Forest Regression."
   ]
  },
  {
   "cell_type": "markdown",
   "metadata": {
    "id": "DRwAsu2VHOqi"
   },
   "source": [
    "## Importing the required libraries"
   ]
  },
  {
   "cell_type": "code",
   "execution_count": 137,
   "metadata": {
    "id": "8DP8tL7-Gkm9"
   },
   "outputs": [],
   "source": [
    "import numpy as np\n",
    "import pandas as pd\n",
    "import seaborn as sns\n",
    "import matplotlib.pyplot as plt\n",
    "import warnings\n",
    "warnings.filterwarnings('ignore')\n",
    "%matplotlib inline"
   ]
  },
  {
   "cell_type": "markdown",
   "metadata": {
    "id": "az1r7FlOHnk_"
   },
   "source": [
    "## Preparing the dataset"
   ]
  },
  {
   "cell_type": "code",
   "execution_count": 42,
   "metadata": {},
   "outputs": [
    {
     "data": {
      "text/html": [
       "<div>\n",
       "<style scoped>\n",
       "    .dataframe tbody tr th:only-of-type {\n",
       "        vertical-align: middle;\n",
       "    }\n",
       "\n",
       "    .dataframe tbody tr th {\n",
       "        vertical-align: top;\n",
       "    }\n",
       "\n",
       "    .dataframe thead th {\n",
       "        text-align: right;\n",
       "    }\n",
       "</style>\n",
       "<table border=\"1\" class=\"dataframe\">\n",
       "  <thead>\n",
       "    <tr style=\"text-align: right;\">\n",
       "      <th></th>\n",
       "      <th>Serial No.</th>\n",
       "      <th>GRE Score</th>\n",
       "      <th>TOEFL Score</th>\n",
       "      <th>University Rating</th>\n",
       "      <th>SOP</th>\n",
       "      <th>LOR</th>\n",
       "      <th>CGPA</th>\n",
       "      <th>Research</th>\n",
       "      <th>Chance of Admit</th>\n",
       "    </tr>\n",
       "  </thead>\n",
       "  <tbody>\n",
       "    <tr>\n",
       "      <th>0</th>\n",
       "      <td>1</td>\n",
       "      <td>337</td>\n",
       "      <td>118</td>\n",
       "      <td>4</td>\n",
       "      <td>4.5</td>\n",
       "      <td>4.5</td>\n",
       "      <td>9.65</td>\n",
       "      <td>1</td>\n",
       "      <td>0.92</td>\n",
       "    </tr>\n",
       "    <tr>\n",
       "      <th>1</th>\n",
       "      <td>2</td>\n",
       "      <td>324</td>\n",
       "      <td>107</td>\n",
       "      <td>4</td>\n",
       "      <td>4.0</td>\n",
       "      <td>4.5</td>\n",
       "      <td>8.87</td>\n",
       "      <td>1</td>\n",
       "      <td>0.76</td>\n",
       "    </tr>\n",
       "    <tr>\n",
       "      <th>2</th>\n",
       "      <td>3</td>\n",
       "      <td>316</td>\n",
       "      <td>104</td>\n",
       "      <td>3</td>\n",
       "      <td>3.0</td>\n",
       "      <td>3.5</td>\n",
       "      <td>8.00</td>\n",
       "      <td>1</td>\n",
       "      <td>0.72</td>\n",
       "    </tr>\n",
       "    <tr>\n",
       "      <th>3</th>\n",
       "      <td>4</td>\n",
       "      <td>322</td>\n",
       "      <td>110</td>\n",
       "      <td>3</td>\n",
       "      <td>3.5</td>\n",
       "      <td>2.5</td>\n",
       "      <td>8.67</td>\n",
       "      <td>1</td>\n",
       "      <td>0.80</td>\n",
       "    </tr>\n",
       "    <tr>\n",
       "      <th>4</th>\n",
       "      <td>5</td>\n",
       "      <td>314</td>\n",
       "      <td>103</td>\n",
       "      <td>2</td>\n",
       "      <td>2.0</td>\n",
       "      <td>3.0</td>\n",
       "      <td>8.21</td>\n",
       "      <td>0</td>\n",
       "      <td>0.65</td>\n",
       "    </tr>\n",
       "  </tbody>\n",
       "</table>\n",
       "</div>"
      ],
      "text/plain": [
       "   Serial No.  GRE Score  TOEFL Score  University Rating  SOP  LOR  CGPA  \\\n",
       "0           1        337          118                  4  4.5  4.5  9.65   \n",
       "1           2        324          107                  4  4.0  4.5  8.87   \n",
       "2           3        316          104                  3  3.0  3.5  8.00   \n",
       "3           4        322          110                  3  3.5  2.5  8.67   \n",
       "4           5        314          103                  2  2.0  3.0  8.21   \n",
       "\n",
       "   Research  Chance of Admit  \n",
       "0         1             0.92  \n",
       "1         1             0.76  \n",
       "2         1             0.72  \n",
       "3         1             0.80  \n",
       "4         0             0.65  "
      ]
     },
     "execution_count": 42,
     "metadata": {},
     "output_type": "execute_result"
    }
   ],
   "source": [
    "\n",
    "import os, types\n",
    "import pandas as pd\n",
    "from botocore.client import Config\n",
    "import ibm_boto3\n",
    "\n",
    "def __iter__(self): return 0\n",
    "\n",
    "# @hidden_cell\n",
    "# The following code accesses a file in your IBM Cloud Object Storage. It includes your credentials.\n",
    "# You might want to remove those credentials before you share the notebook.\n",
    "cos_client = ibm_boto3.client(service_name='s3',\n",
    "    ibm_api_key_id='2lO2H-39ugy5THic7bSZNoSkQfgPdr4Jm-EYiwiwGS5_',\n",
    "    ibm_auth_endpoint=\"https://iam.cloud.ibm.com/oidc/token\",\n",
    "    config=Config(signature_version='oauth'),\n",
    "    endpoint_url='https://s3.private.us.cloud-object-storage.appdomain.cloud')\n",
    "\n",
    "bucket = 'ibmdeployment-donotdelete-pr-2nbalvcbfj9ry7'\n",
    "object_key = 'Admission_Predict_Ver1.1.csv'\n",
    "\n",
    "body = cos_client.get_object(Bucket=bucket,Key=object_key)['Body']\n",
    "# add missing __iter__ method, so pandas accepts body as file-like object\n",
    "if not hasattr(body, \"__iter__\"): body.__iter__ = types.MethodType( __iter__, body )\n",
    "\n",
    "df = pd.read_csv(body)\n",
    "df.head()\n"
   ]
  },
  {
   "cell_type": "markdown",
   "metadata": {
    "id": "w1TfmzDhTewI"
   },
   "source": [
    "## Creating a correlation matrix"
   ]
  },
  {
   "cell_type": "code",
   "execution_count": 43,
   "metadata": {
    "colab": {
     "base_uri": "https://localhost:8080/",
     "height": 300
    },
    "id": "oMW16slUIcCf",
    "outputId": "f57dc37e-1348-4a7b-aa2d-446ff4245e39"
   },
   "outputs": [
    {
     "data": {
      "text/html": [
       "<div>\n",
       "<style scoped>\n",
       "    .dataframe tbody tr th:only-of-type {\n",
       "        vertical-align: middle;\n",
       "    }\n",
       "\n",
       "    .dataframe tbody tr th {\n",
       "        vertical-align: top;\n",
       "    }\n",
       "\n",
       "    .dataframe thead th {\n",
       "        text-align: right;\n",
       "    }\n",
       "</style>\n",
       "<table border=\"1\" class=\"dataframe\">\n",
       "  <thead>\n",
       "    <tr style=\"text-align: right;\">\n",
       "      <th></th>\n",
       "      <th>Serial No.</th>\n",
       "      <th>GRE Score</th>\n",
       "      <th>TOEFL Score</th>\n",
       "      <th>University Rating</th>\n",
       "      <th>SOP</th>\n",
       "      <th>LOR</th>\n",
       "      <th>CGPA</th>\n",
       "      <th>Research</th>\n",
       "      <th>Chance of Admit</th>\n",
       "    </tr>\n",
       "  </thead>\n",
       "  <tbody>\n",
       "    <tr>\n",
       "      <th>Serial No.</th>\n",
       "      <td>1.000000</td>\n",
       "      <td>-0.103839</td>\n",
       "      <td>-0.141696</td>\n",
       "      <td>-0.067641</td>\n",
       "      <td>-0.137352</td>\n",
       "      <td>-0.003694</td>\n",
       "      <td>-0.074289</td>\n",
       "      <td>-0.005332</td>\n",
       "      <td>0.008505</td>\n",
       "    </tr>\n",
       "    <tr>\n",
       "      <th>GRE Score</th>\n",
       "      <td>-0.103839</td>\n",
       "      <td>1.000000</td>\n",
       "      <td>0.827200</td>\n",
       "      <td>0.635376</td>\n",
       "      <td>0.613498</td>\n",
       "      <td>0.524679</td>\n",
       "      <td>0.825878</td>\n",
       "      <td>0.563398</td>\n",
       "      <td>0.810351</td>\n",
       "    </tr>\n",
       "    <tr>\n",
       "      <th>TOEFL Score</th>\n",
       "      <td>-0.141696</td>\n",
       "      <td>0.827200</td>\n",
       "      <td>1.000000</td>\n",
       "      <td>0.649799</td>\n",
       "      <td>0.644410</td>\n",
       "      <td>0.541563</td>\n",
       "      <td>0.810574</td>\n",
       "      <td>0.467012</td>\n",
       "      <td>0.792228</td>\n",
       "    </tr>\n",
       "    <tr>\n",
       "      <th>University Rating</th>\n",
       "      <td>-0.067641</td>\n",
       "      <td>0.635376</td>\n",
       "      <td>0.649799</td>\n",
       "      <td>1.000000</td>\n",
       "      <td>0.728024</td>\n",
       "      <td>0.608651</td>\n",
       "      <td>0.705254</td>\n",
       "      <td>0.427047</td>\n",
       "      <td>0.690132</td>\n",
       "    </tr>\n",
       "    <tr>\n",
       "      <th>SOP</th>\n",
       "      <td>-0.137352</td>\n",
       "      <td>0.613498</td>\n",
       "      <td>0.644410</td>\n",
       "      <td>0.728024</td>\n",
       "      <td>1.000000</td>\n",
       "      <td>0.663707</td>\n",
       "      <td>0.712154</td>\n",
       "      <td>0.408116</td>\n",
       "      <td>0.684137</td>\n",
       "    </tr>\n",
       "    <tr>\n",
       "      <th>LOR</th>\n",
       "      <td>-0.003694</td>\n",
       "      <td>0.524679</td>\n",
       "      <td>0.541563</td>\n",
       "      <td>0.608651</td>\n",
       "      <td>0.663707</td>\n",
       "      <td>1.000000</td>\n",
       "      <td>0.637469</td>\n",
       "      <td>0.372526</td>\n",
       "      <td>0.645365</td>\n",
       "    </tr>\n",
       "    <tr>\n",
       "      <th>CGPA</th>\n",
       "      <td>-0.074289</td>\n",
       "      <td>0.825878</td>\n",
       "      <td>0.810574</td>\n",
       "      <td>0.705254</td>\n",
       "      <td>0.712154</td>\n",
       "      <td>0.637469</td>\n",
       "      <td>1.000000</td>\n",
       "      <td>0.501311</td>\n",
       "      <td>0.882413</td>\n",
       "    </tr>\n",
       "    <tr>\n",
       "      <th>Research</th>\n",
       "      <td>-0.005332</td>\n",
       "      <td>0.563398</td>\n",
       "      <td>0.467012</td>\n",
       "      <td>0.427047</td>\n",
       "      <td>0.408116</td>\n",
       "      <td>0.372526</td>\n",
       "      <td>0.501311</td>\n",
       "      <td>1.000000</td>\n",
       "      <td>0.545871</td>\n",
       "    </tr>\n",
       "    <tr>\n",
       "      <th>Chance of Admit</th>\n",
       "      <td>0.008505</td>\n",
       "      <td>0.810351</td>\n",
       "      <td>0.792228</td>\n",
       "      <td>0.690132</td>\n",
       "      <td>0.684137</td>\n",
       "      <td>0.645365</td>\n",
       "      <td>0.882413</td>\n",
       "      <td>0.545871</td>\n",
       "      <td>1.000000</td>\n",
       "    </tr>\n",
       "  </tbody>\n",
       "</table>\n",
       "</div>"
      ],
      "text/plain": [
       "                   Serial No.  GRE Score  TOEFL Score  University Rating  \\\n",
       "Serial No.           1.000000  -0.103839    -0.141696          -0.067641   \n",
       "GRE Score           -0.103839   1.000000     0.827200           0.635376   \n",
       "TOEFL Score         -0.141696   0.827200     1.000000           0.649799   \n",
       "University Rating   -0.067641   0.635376     0.649799           1.000000   \n",
       "SOP                 -0.137352   0.613498     0.644410           0.728024   \n",
       "LOR                 -0.003694   0.524679     0.541563           0.608651   \n",
       "CGPA                -0.074289   0.825878     0.810574           0.705254   \n",
       "Research            -0.005332   0.563398     0.467012           0.427047   \n",
       "Chance of Admit      0.008505   0.810351     0.792228           0.690132   \n",
       "\n",
       "                        SOP       LOR      CGPA  Research  Chance of Admit  \n",
       "Serial No.        -0.137352 -0.003694 -0.074289 -0.005332         0.008505  \n",
       "GRE Score          0.613498  0.524679  0.825878  0.563398         0.810351  \n",
       "TOEFL Score        0.644410  0.541563  0.810574  0.467012         0.792228  \n",
       "University Rating  0.728024  0.608651  0.705254  0.427047         0.690132  \n",
       "SOP                1.000000  0.663707  0.712154  0.408116         0.684137  \n",
       "LOR                0.663707  1.000000  0.637469  0.372526         0.645365  \n",
       "CGPA               0.712154  0.637469  1.000000  0.501311         0.882413  \n",
       "Research           0.408116  0.372526  0.501311  1.000000         0.545871  \n",
       "Chance of Admit    0.684137  0.645365  0.882413  0.545871         1.000000  "
      ]
     },
     "execution_count": 43,
     "metadata": {},
     "output_type": "execute_result"
    }
   ],
   "source": [
    "corr_matrix=df.corr()\n",
    "corr_matrix"
   ]
  },
  {
   "cell_type": "markdown",
   "metadata": {
    "id": "y2UA-ctZUSLO"
   },
   "source": [
    "When looking at the data and correlation matrix, it seems that \"Chance of Admit\" values depend on lots of variables. To observe the effects of columns on \"Chance of Admit\" values in detail, so creating a correlation graph."
   ]
  },
  {
   "cell_type": "code",
   "execution_count": 44,
   "metadata": {
    "colab": {
     "base_uri": "https://localhost:8080/",
     "height": 487
    },
    "id": "g3cVH0PeIWfg",
    "outputId": "f0f7886d-10d9-4f29-bb4e-1eb78fb90eaa"
   },
   "outputs": [],
   "source": [
    "#plotting the correlation matrix as a heatmap\n",
    "import matplotlib.pyplot as plt\n",
    "import seaborn as sns\n",
    "fig = plt.figure(figsize=(12,8))\n",
    "sns.heatmap(corr_matrix,annot=True)\n",
    "plt.show()"
   ]
  },
  {
   "cell_type": "markdown",
   "metadata": {
    "id": "lBy_v1BGVl5C"
   },
   "source": []
  },
  {
   "cell_type": "markdown",
   "metadata": {
    "id": "vOH715CjV9iu"
   },
   "source": [
    "As seen, there are direct proportions between \"Chance of Admit\" data and the other columns. In order to observe these direct proportions more clearly, we will visualize the data."
   ]
  },
  {
   "cell_type": "code",
   "execution_count": 45,
   "metadata": {
    "colab": {
     "base_uri": "https://localhost:8080/",
     "height": 295
    },
    "id": "9FcU7whOVetw",
    "outputId": "012166ad-1694-4845-f791-0b2e3477e828"
   },
   "outputs": [
    {
     "data": {
      "image/png": "[encoded data removed]",
      "text/plain": [
       "<Figure size 432x288 with 1 Axes>"
      ]
     },
     "metadata": {
      "needs_background": "light"
     },
     "output_type": "display_data"
    }
   ],
   "source": [
    "#plotting data which have high correlation\n",
    "%matplotlib inline\n",
    "import seaborn as sns\n",
    "data=df\n",
    "sns.scatterplot(data['GRE Score'], data['Chance of Admit'],data=df,hue=data['Research'])\n",
    "plt.title(\"GRE Score vs Chance of Admit\")\n",
    "plt.show()"
   ]
  },
  {
   "cell_type": "code",
   "execution_count": 46,
   "metadata": {
    "colab": {
     "base_uri": "https://localhost:8080/",
     "height": 295
    },
    "id": "Ah8DdZrNUemx",
    "outputId": "d58c5f77-2963-4b85-c727-72c8bbbc0a20"
   },
   "outputs": [
    {
     "data": {
      "image/png": "[encoded data removed]",
      "text/plain": [
       "<Figure size 432x288 with 1 Axes>"
      ]
     },
     "metadata": {
      "needs_background": "light"
     },
     "output_type": "display_data"
    }
   ],
   "source": [
    "%matplotlib inline\n",
    "import seaborn as sns\n",
    "data =df\n",
    "sns.scatterplot(data[\"CGPA\"],data[\"Chance of Admit\"],data=df,hue=data[\"Research\"])\n",
    "plt.title(\"CGPA vs Chance of Admit\")\n",
    "plt.show()"
   ]
  },
  {
   "cell_type": "code",
   "execution_count": 47,
   "metadata": {
    "colab": {
     "base_uri": "https://localhost:8080/",
     "height": 295
    },
    "id": "SnG6HP0HUeiv",
    "outputId": "bbdf2df3-6ce4-4bd2-bba6-c411346ccb36"
   },
   "outputs": [
    {
     "data": {
      "image/png": "[encoded data removed]",
      "text/plain": [
       "<Figure size 432x288 with 1 Axes>"
      ]
     },
     "metadata": {
      "needs_background": "light"
     },
     "output_type": "display_data"
    }
   ],
   "source": [
    "%matplotlib inline\n",
    "import seaborn as sns\n",
    "data=df\n",
    "sns.lineplot(data[\"TOEFL Score\"],data[\"Chance of Admit\"],hue=data[\"Research\"])\n",
    "plt.title(\"TOEFL Score vs Chance of Admit\")\n",
    "plt.show()"
   ]
  },
  {
   "cell_type": "code",
   "execution_count": 48,
   "metadata": {
    "colab": {
     "base_uri": "https://localhost:8080/",
     "height": 312
    },
    "id": "fTvmIcxVUeek",
    "outputId": "c9de1775-87bb-4854-a581-d38c71550898"
   },
   "outputs": [
    {
     "name": "stdout",
     "output_type": "stream",
     "text": [
      "Using matplotlib backend: agg\n"
     ]
    },
    {
     "data": {
      "text/plain": [
       "<function matplotlib.pyplot.show(*, block=None)>"
      ]
     },
     "execution_count": 48,
     "metadata": {},
     "output_type": "execute_result"
    }
   ],
   "source": [
    "%matplotlib\n",
    "import seaborn as sns\n",
    "\n",
    "sns.barplot(data=df,x='SOP',y='Chance of Admit',palette='Set2',hue='Research')\n",
    "plt.title('SOP vs Chance of Admit')\n",
    "plt.show"
   ]
  },
  {
   "cell_type": "code",
   "execution_count": 49,
   "metadata": {
    "colab": {
     "base_uri": "https://localhost:8080/",
     "height": 295
    },
    "id": "XwblpDx7UeZo",
    "outputId": "1ff167a7-67e2-439e-9ca4-7eb9fb163aac"
   },
   "outputs": [
    {
     "data": {
      "image/png": "[encoded data removed]",
      "text/plain": [
       "<Figure size 432x288 with 1 Axes>"
      ]
     },
     "metadata": {
      "needs_background": "light"
     },
     "output_type": "display_data"
    }
   ],
   "source": [
    "%matplotlib inline\n",
    "import seaborn as sns\n",
    "data=df\n",
    "sns.barplot(data[\"LOR\"],data[\"Chance of Admit\"],hue=data[\"Research\"])\n",
    "plt.title(\"LOR vs Chance of Admit\")\n",
    "plt.show()"
   ]
  },
  {
   "cell_type": "code",
   "execution_count": 50,
   "metadata": {
    "colab": {
     "base_uri": "https://localhost:8080/",
     "height": 295
    },
    "id": "GM_drmvfUeVP",
    "outputId": "64f92b30-0140-4606-f725-6c878ba15296"
   },
   "outputs": [
    {
     "data": {
      "image/png": "[encoded data removed]",
      "text/plain": [
       "<Figure size 432x288 with 1 Axes>"
      ]
     },
     "metadata": {
      "needs_background": "light"
     },
     "output_type": "display_data"
    }
   ],
   "source": [
    "%matplotlib inline\n",
    "import seaborn as sns\n",
    "data=df\n",
    "sns.barplot(data[\"University Rating\"],data[\"Chance of Admit\"])\n",
    "plt.title(\"University Rating vs Chance of Admit\")\n",
    "plt.show()"
   ]
  },
  {
   "cell_type": "markdown",
   "metadata": {
    "id": "dhv3Ax3IXBHF"
   },
   "source": [
    "It was said that there are direct proportions between the columns and \"Chance of Admit\" data. Also, when observing the graphs, there are linear relationships between them. Therefore, using Linear Regression method may be suitable on the data, but since \"Chance of Admit\" data depends on more than one varible, it is more appropriate to imply Multiple Linear Regression method instead of Linear Regression method."
   ]
  },
  {
   "cell_type": "markdown",
   "metadata": {
    "id": "RS9kjR9gXGlP"
   },
   "source": [
    "## Importing the required libraries for regression analyzes"
   ]
  },
  {
   "cell_type": "code",
   "execution_count": 51,
   "metadata": {
    "id": "JKRMbgyeUeJs"
   },
   "outputs": [],
   "source": [
    "from sklearn.model_selection import train_test_split\n",
    "from sklearn.linear_model import LinearRegression\n",
    "from sklearn.tree import DecisionTreeRegressor\n",
    "from sklearn.ensemble import RandomForestRegressor\n",
    "from sklearn.metrics import r2_score"
   ]
  },
  {
   "cell_type": "markdown",
   "metadata": {
    "id": "XqtMMiLTXfU9"
   },
   "source": [
    "## Spliting the dataset into training and testing data"
   ]
  },
  {
   "cell_type": "code",
   "execution_count": 52,
   "metadata": {
    "id": "DGHcsOV0XDSB"
   },
   "outputs": [],
   "source": [
    "x = df[[\"GRE Score\",\"TOEFL Score\",\"University Rating\",\"SOP\",\"LOR\",\"CGPA\", \"Research\"]]\n",
    "y = df[\"Chance of Admit\"].values.reshape(-1,1)\n",
    "\n",
    "x_train, x_test, y_train, y_test = train_test_split(x,y,test_size=0.2,random_state=42)"
   ]
  },
  {
   "cell_type": "code",
   "execution_count": 53,
   "metadata": {},
   "outputs": [],
   "source": [
    "from sklearn.model_selection import train_test_split\n",
    "\n",
    "x_train, x_test, y_train, y_test = train_test_split(x,y,test_size=0.2,random_state=42)"
   ]
  },
  {
   "cell_type": "markdown",
   "metadata": {
    "id": "xdYkQ3NSX0Ow"
   },
   "source": [
    "## Multiple Linear Regression"
   ]
  },
  {
   "cell_type": "code",
   "execution_count": 54,
   "metadata": {
    "colab": {
     "base_uri": "https://localhost:8080/"
    },
    "id": "L0KqhetTxXdk",
    "outputId": "54a2596c-3ff4-416f-da83-5fb051969697"
   },
   "outputs": [
    {
     "name": "stdout",
     "output_type": "stream",
     "text": [
      "Mutiple Linear Regression's Score = 0.819\n"
     ]
    }
   ],
   "source": [
    "#implying multiple linear regression and determining its score\n",
    "\n",
    "multiple_lin_reg = LinearRegression()\n",
    "multiple_lin_reg.fit(x_train,y_train)\n",
    "\n",
    "y_pred_mlr = multiple_lin_reg.predict(x_test)\n",
    "\n",
    "r2_score_mlr = r2_score(y_test,y_pred_mlr)\n",
    "print(\"Mutiple Linear Regression's Score = {:.3f}\".format(r2_score_mlr))"
   ]
  },
  {
   "cell_type": "markdown",
   "metadata": {
    "id": "JMHRQTOMYJIP"
   },
   "source": [
    "## Decision Tree Regression"
   ]
  },
  {
   "cell_type": "code",
   "execution_count": 55,
   "metadata": {
    "colab": {
     "base_uri": "https://localhost:8080/"
    },
    "id": "Sa3S72tSXa-H",
    "outputId": "69bce0c9-62ae-4bfe-9d07-5875d7766bd3"
   },
   "outputs": [
    {
     "name": "stdout",
     "output_type": "stream",
     "text": [
      "Decision Tree Regression's Score = 0.595\n"
     ]
    }
   ],
   "source": [
    "#implying decision tree regression and determining its score\n",
    "\n",
    "tree_reg = DecisionTreeRegressor()\n",
    "tree_reg.fit(x_train,y_train)\n",
    "\n",
    "y_pred_tree = tree_reg.predict(x_test)\n",
    "\n",
    "r2_score_tree = r2_score(y_test,y_pred_tree)\n",
    "print(\"Decision Tree Regression's Score = {:.3f}\".format(r2_score_tree))"
   ]
  },
  {
   "cell_type": "markdown",
   "metadata": {
    "id": "v6ofDFiAYaxk"
   },
   "source": [
    "## Random Forest Regression"
   ]
  },
  {
   "cell_type": "code",
   "execution_count": 56,
   "metadata": {
    "colab": {
     "base_uri": "https://localhost:8080/"
    },
    "id": "UrNS6d1KXa5y",
    "outputId": "bfc9f2b4-7ffd-4612-efac-3c3f0da82d17"
   },
   "outputs": [
    {
     "name": "stdout",
     "output_type": "stream",
     "text": [
      "Random Forest Regression's Score = 0.787\n"
     ]
    },
    {
     "name": "stderr",
     "output_type": "stream",
     "text": [
      "/tmp/wsuser/ipykernel_165/3545579415.py:4: DataConversionWarning: A column-vector y was passed when a 1d array was expected. Please change the shape of y to (n_samples,), for example using ravel().\n",
      "  ran_for_reg.fit(x_train,y_train)\n"
     ]
    }
   ],
   "source": [
    "#implying random forest regression and determining its score\n",
    "\n",
    "ran_for_reg = RandomForestRegressor(n_estimators=100,random_state=42)\n",
    "ran_for_reg.fit(x_train,y_train)\n",
    "\n",
    "y_pred_rfr = ran_for_reg.predict(x_test)\n",
    "\n",
    "r2_score_rfr = r2_score(y_test,y_pred_rfr)\n",
    "print(\"Random Forest Regression's Score = {:.3f}\".format(r2_score_rfr))"
   ]
  },
  {
   "cell_type": "markdown",
   "metadata": {
    "id": "OcHxkymeYqvb"
   },
   "source": [
    "## Conclusion"
   ]
  },
  {
   "cell_type": "markdown",
   "metadata": {
    "id": "yYtrHCQKZDfI"
   },
   "source": [
    "R^2 score is an indicator of accuracy of regression models, and the accuracy is measured as close to 1 of this value .Therefore , as seen ,Multiple Linear Regression Models is brtter than Decision Tree Regression and Random Forest Regression on this dataset when comparing their R^2 scores\n",
    "\n"
   ]
  },
  {
   "cell_type": "code",
   "execution_count": 57,
   "metadata": {
    "colab": {
     "base_uri": "https://localhost:8080/"
    },
    "id": "AsaB3QmfYvlR",
    "outputId": "4441d76d-f242-45e7-8c23-97f734069bb7"
   },
   "outputs": [
    {
     "name": "stdout",
     "output_type": "stream",
     "text": [
      "Requirement already satisfied: ibm_watson_machine_learning in /opt/conda/envs/Python-3.9/lib/python3.9/site-packages (1.0.257)\n",
      "Requirement already satisfied: requests in /opt/conda/envs/Python-3.9/lib/python3.9/site-packages (from ibm_watson_machine_learning) (2.26.0)\n",
      "Requirement already satisfied: tabulate in /opt/conda/envs/Python-3.9/lib/python3.9/site-packages (from ibm_watson_machine_learning) (0.8.9)\n",
      "Requirement already satisfied: ibm-cos-sdk==2.11.* in /opt/conda/envs/Python-3.9/lib/python3.9/site-packages (from ibm_watson_machine_learning) (2.11.0)\n",
      "Requirement already satisfied: urllib3 in /opt/conda/envs/Python-3.9/lib/python3.9/site-packages (from ibm_watson_machine_learning) (1.26.7)\n",
      "Requirement already satisfied: lomond in /opt/conda/envs/Python-3.9/lib/python3.9/site-packages (from ibm_watson_machine_learning) (0.3.3)\n",
      "Requirement already satisfied: certifi in /opt/conda/envs/Python-3.9/lib/python3.9/site-packages (from ibm_watson_machine_learning) (2022.9.24)\n",
      "Requirement already satisfied: packaging in /opt/conda/envs/Python-3.9/lib/python3.9/site-packages (from ibm_watson_machine_learning) (21.3)\n",
      "Requirement already satisfied: importlib-metadata in /opt/conda/envs/Python-3.9/lib/python3.9/site-packages (from ibm_watson_machine_learning) (4.8.2)\n",
      "Requirement already satisfied: pandas<1.5.0,>=0.24.2 in /opt/conda/envs/Python-3.9/lib/python3.9/site-packages (from ibm_watson_machine_learning) (1.3.4)\n",
      "Requirement already satisfied: jmespath<1.0.0,>=0.7.1 in /opt/conda/envs/Python-3.9/lib/python3.9/site-packages (from ibm-cos-sdk==2.11.*->ibm_watson_machine_learning) (0.10.0)\n",
      "Requirement already satisfied: ibm-cos-sdk-core==2.11.0 in /opt/conda/envs/Python-3.9/lib/python3.9/site-packages (from ibm-cos-sdk==2.11.*->ibm_watson_machine_learning) (2.11.0)\n",
      "Requirement already satisfied: ibm-cos-sdk-s3transfer==2.11.0 in /opt/conda/envs/Python-3.9/lib/python3.9/site-packages (from ibm-cos-sdk==2.11.*->ibm_watson_machine_learning) (2.11.0)\n",
      "Requirement already satisfied: python-dateutil<3.0.0,>=2.1 in /opt/conda/envs/Python-3.9/lib/python3.9/site-packages (from ibm-cos-sdk-core==2.11.0->ibm-cos-sdk==2.11.*->ibm_watson_machine_learning) (2.8.2)\n",
      "Requirement already satisfied: pytz>=2017.3 in /opt/conda/envs/Python-3.9/lib/python3.9/site-packages (from pandas<1.5.0,>=0.24.2->ibm_watson_machine_learning) (2021.3)\n",
      "Requirement already satisfied: numpy>=1.17.3 in /opt/conda/envs/Python-3.9/lib/python3.9/site-packages (from pandas<1.5.0,>=0.24.2->ibm_watson_machine_learning) (1.20.3)\n",
      "Requirement already satisfied: six>=1.5 in /opt/conda/envs/Python-3.9/lib/python3.9/site-packages (from python-dateutil<3.0.0,>=2.1->ibm-cos-sdk-core==2.11.0->ibm-cos-sdk==2.11.*->ibm_watson_machine_learning) (1.15.0)\n",
      "Requirement already satisfied: charset-normalizer~=2.0.0 in /opt/conda/envs/Python-3.9/lib/python3.9/site-packages (from requests->ibm_watson_machine_learning) (2.0.4)\n",
      "Requirement already satisfied: idna<4,>=2.5 in /opt/conda/envs/Python-3.9/lib/python3.9/site-packages (from requests->ibm_watson_machine_learning) (3.3)\n",
      "Requirement already satisfied: zipp>=0.5 in /opt/conda/envs/Python-3.9/lib/python3.9/site-packages (from importlib-metadata->ibm_watson_machine_learning) (3.6.0)\n",
      "Requirement already satisfied: pyparsing!=3.0.5,>=2.0.2 in /opt/conda/envs/Python-3.9/lib/python3.9/site-packages (from packaging->ibm_watson_machine_learning) (3.0.4)\n"
     ]
    }
   ],
   "source": [
    "!pip install ibm_watson_machine_learning"
   ]
  },
  {
   "cell_type": "markdown",
   "metadata": {
    "id": "ghYH4tKhguCa"
   },
   "source": [
    "## Establising connection to IBM Watson ML sevice"
   ]
  },
  {
   "cell_type": "code",
   "execution_count": 58,
   "metadata": {},
   "outputs": [],
   "source": [
    "from ibm_watson_machine_learning import APIClient\n",
    "import json"
   ]
  },
  {
   "cell_type": "code",
   "execution_count": 59,
   "metadata": {
    "colab": {
     "base_uri": "https://localhost:8080/"
    },
    "id": "jPSDt0HPZOM8",
    "outputId": "cb9ffdbd-6667-4765-80d2-45fe6b16db88"
   },
   "outputs": [],
   "source": [
    "from ibm_watson_machine_learning import APIClient\n",
    "wml_credentials = {\n",
    "    \"apikey\": \"GXIq0WvfLYobrmTPaccsVpwEML_PHzJjoRIhFnQkfjkM\",\n",
    "    \"url\":\"https://us-south.ml.cloud.ibm.com\"\n",
    "}"
   ]
  },
  {
   "cell_type": "code",
   "execution_count": 60,
   "metadata": {},
   "outputs": [],
   "source": [
    "wml_client=APIClient(wml_credentials)"
   ]
  },
  {
   "cell_type": "code",
   "execution_count": 61,
   "metadata": {},
   "outputs": [
    {
     "name": "stdout",
     "output_type": "stream",
     "text": [
      "Note: 'limit' is not provided. Only first 50 records will be displayed if the number of records exceed 50\n",
      "------------------------------------  ----------------  ------------------------\n",
      "ID                                    NAME              CREATED\n",
      "5e27b477-1bb8-4a48-8b0f-81b3147dffe1  multilenear demo  2022-11-14T16:45:46.614Z\n",
      "------------------------------------  ----------------  ------------------------\n"
     ]
    }
   ],
   "source": [
    "wml_client.spaces.list()"
   ]
  },
  {
   "cell_type": "code",
   "execution_count": 62,
   "metadata": {},
   "outputs": [],
   "source": [
    "SPACE_ID=\"5e27b477-1bb8-4a48-8b0f-81b3147dffe1\""
   ]
  },
  {
   "cell_type": "code",
   "execution_count": 63,
   "metadata": {},
   "outputs": [
    {
     "data": {
      "text/plain": [
       "'SUCCESS'"
      ]
     },
     "execution_count": 63,
     "metadata": {},
     "output_type": "execute_result"
    }
   ],
   "source": [
    "wml_client.set.default_space(SPACE_ID)"
   ]
  },
  {
   "cell_type": "code",
   "execution_count": 64,
   "metadata": {},
   "outputs": [
    {
     "name": "stdout",
     "output_type": "stream",
     "text": [
      "-------------------------------  ------------------------------------  ----\n",
      "NAME                             ASSET_ID                              TYPE\n",
      "default_py3.6                    0062b8c9-8b7d-44a0-a9b9-46c416adcbd9  base\n",
      "kernel-spark3.2-scala2.12        020d69ce-7ac1-5e68-ac1a-31189867356a  base\n",
      "pytorch-onnx_1.3-py3.7-edt       069ea134-3346-5748-b513-49120e15d288  base\n",
      "scikit-learn_0.20-py3.6          09c5a1d0-9c1e-4473-a344-eb7b665ff687  base\n",
      "spark-mllib_3.0-scala_2.12       09f4cff0-90a7-5899-b9ed-1ef348aebdee  base\n",
      "pytorch-onnx_rt22.1-py3.9        0b848dd4-e681-5599-be41-b5f6fccc6471  base\n",
      "ai-function_0.1-py3.6            0cdb0f1e-5376-4f4d-92dd-da3b69aa9bda  base\n",
      "shiny-r3.6                       0e6e79df-875e-4f24-8ae9-62dcc2148306  base\n",
      "tensorflow_2.4-py3.7-horovod     1092590a-307d-563d-9b62-4eb7d64b3f22  base\n",
      "pytorch_1.1-py3.6                10ac12d6-6b30-4ccd-8392-3e922c096a92  base\n",
      "tensorflow_1.15-py3.6-ddl        111e41b3-de2d-5422-a4d6-bf776828c4b7  base\n",
      "autoai-kb_rt22.2-py3.10          125b6d9a-5b1f-5e8d-972a-b251688ccf40  base\n",
      "runtime-22.1-py3.9               12b83a17-24d8-5082-900f-0ab31fbfd3cb  base\n",
      "scikit-learn_0.22-py3.6          154010fa-5b3b-4ac1-82af-4d5ee5abbc85  base\n",
      "default_r3.6                     1b70aec3-ab34-4b87-8aa0-a4a3c8296a36  base\n",
      "pytorch-onnx_1.3-py3.6           1bc6029a-cc97-56da-b8e0-39c3880dbbe7  base\n",
      "kernel-spark3.3-r3.6             1c9e5454-f216-59dd-a20e-474a5cdf5988  base\n",
      "pytorch-onnx_rt22.1-py3.9-edt    1d362186-7ad5-5b59-8b6c-9d0880bde37f  base\n",
      "tensorflow_2.1-py3.6             1eb25b84-d6ed-5dde-b6a5-3fbdf1665666  base\n",
      "spark-mllib_3.2                  20047f72-0a98-58c7-9ff5-a77b012eb8f5  base\n",
      "tensorflow_2.4-py3.8-horovod     217c16f6-178f-56bf-824a-b19f20564c49  base\n",
      "runtime-22.1-py3.9-cuda          26215f05-08c3-5a41-a1b0-da66306ce658  base\n",
      "do_py3.8                         295addb5-9ef9-547e-9bf4-92ae3563e720  base\n",
      "autoai-ts_3.8-py3.8              2aa0c932-798f-5ae9-abd6-15e0c2402fb5  base\n",
      "tensorflow_1.15-py3.6            2b73a275-7cbf-420b-a912-eae7f436e0bc  base\n",
      "kernel-spark3.3-py3.9            2b7961e2-e3b1-5a8c-a491-482c8368839a  base\n",
      "pytorch_1.2-py3.6                2c8ef57d-2687-4b7d-acce-01f94976dac1  base\n",
      "spark-mllib_2.3                  2e51f700-bca0-4b0d-88dc-5c6791338875  base\n",
      "pytorch-onnx_1.1-py3.6-edt       32983cea-3f32-4400-8965-dde874a8d67e  base\n",
      "spark-mllib_3.0-py37             36507ebe-8770-55ba-ab2a-eafe787600e9  base\n",
      "spark-mllib_2.4                  390d21f8-e58b-4fac-9c55-d7ceda621326  base\n",
      "autoai-ts_rt22.2-py3.10          396b2e83-0953-5b86-9a55-7ce1628a406f  base\n",
      "xgboost_0.82-py3.6               39e31acd-5f30-41dc-ae44-60233c80306e  base\n",
      "pytorch-onnx_1.2-py3.6-edt       40589d0e-7019-4e28-8daa-fb03b6f4fe12  base\n",
      "pytorch-onnx_rt22.2-py3.10       40e73f55-783a-5535-b3fa-0c8b94291431  base\n",
      "default_r36py38                  41c247d3-45f8-5a71-b065-8580229facf0  base\n",
      "autoai-ts_rt22.1-py3.9           4269d26e-07ba-5d40-8f66-2d495b0c71f7  base\n",
      "autoai-obm_3.0                   42b92e18-d9ab-567f-988a-4240ba1ed5f7  base\n",
      "pmml-3.0_4.3                     493bcb95-16f1-5bc5-bee8-81b8af80e9c7  base\n",
      "spark-mllib_2.4-r_3.6            49403dff-92e9-4c87-a3d7-a42d0021c095  base\n",
      "xgboost_0.90-py3.6               4ff8d6c2-1343-4c18-85e1-689c965304d3  base\n",
      "pytorch-onnx_1.1-py3.6           50f95b2a-bc16-43bb-bc94-b0bed208c60b  base\n",
      "autoai-ts_3.9-py3.8              52c57136-80fa-572e-8728-a5e7cbb42cde  base\n",
      "spark-mllib_2.4-scala_2.11       55a70f99-7320-4be5-9fb9-9edb5a443af5  base\n",
      "spark-mllib_3.0                  5c1b0ca2-4977-5c2e-9439-ffd44ea8ffe9  base\n",
      "autoai-obm_2.0                   5c2e37fa-80b8-5e77-840f-d912469614ee  base\n",
      "spss-modeler_18.1                5c3cad7e-507f-4b2a-a9a3-ab53a21dee8b  base\n",
      "cuda-py3.8                       5d3232bf-c86b-5df4-a2cd-7bb870a1cd4e  base\n",
      "autoai-kb_3.1-py3.7              632d4b22-10aa-5180-88f0-f52dfb6444d7  base\n",
      "pytorch-onnx_1.7-py3.8           634d3cdc-b562-5bf9-a2d4-ea90a478456b  base\n",
      "spark-mllib_2.3-r_3.6            6586b9e3-ccd6-4f92-900f-0f8cb2bd6f0c  base\n",
      "tensorflow_2.4-py3.7             65e171d7-72d1-55d9-8ebb-f813d620c9bb  base\n",
      "spss-modeler_18.2                687eddc9-028a-4117-b9dd-e57b36f1efa5  base\n",
      "pytorch-onnx_1.2-py3.6           692a6a4d-2c4d-45ff-a1ed-b167ee55469a  base\n",
      "spark-mllib_2.3-scala_2.11       7963efe5-bbec-417e-92cf-0574e21b4e8d  base\n",
      "spark-mllib_2.4-py37             7abc992b-b685-532b-a122-a396a3cdbaab  base\n",
      "caffe_1.0-py3.6                  7bb3dbe2-da6e-4145-918d-b6d84aa93b6b  base\n",
      "pytorch-onnx_1.7-py3.7           812c6631-42b7-5613-982b-02098e6c909c  base\n",
      "cuda-py3.6                       82c79ece-4d12-40e6-8787-a7b9e0f62770  base\n",
      "tensorflow_1.15-py3.6-horovod    8964680e-d5e4-5bb8-919b-8342c6c0dfd8  base\n",
      "hybrid_0.1                       8c1a58c6-62b5-4dc4-987a-df751c2756b6  base\n",
      "pytorch-onnx_1.3-py3.7           8d5d8a87-a912-54cf-81ec-3914adaa988d  base\n",
      "caffe-ibm_1.0-py3.6              8d863266-7927-4d1e-97d7-56a7f4c0a19b  base\n",
      "spss-modeler_17.1                902d0051-84bd-4af6-ab6b-8f6aa6fdeabb  base\n",
      "do_12.10                         9100fd72-8159-4eb9-8a0b-a87e12eefa36  base\n",
      "do_py3.7                         9447fa8b-2051-4d24-9eef-5acb0e3c59f8  base\n",
      "spark-mllib_3.0-r_3.6            94bb6052-c837-589d-83f1-f4142f219e32  base\n",
      "cuda-py3.7-opence                94e9652b-7f2d-59d5-ba5a-23a414ea488f  base\n",
      "nlp-py3.8                        96e60351-99d4-5a1c-9cc0-473ac1b5a864  base\n",
      "cuda-py3.7                       9a44990c-1aa1-4c7d-baf8-c4099011741c  base\n",
      "hybrid_0.2                       9b3f9040-9cee-4ead-8d7a-780600f542f7  base\n",
      "spark-mllib_3.0-py38             9f7a8fc1-4d3c-5e65-ab90-41fa8de2d418  base\n",
      "autoai-kb_3.3-py3.7              a545cca3-02df-5c61-9e88-998b09dc79af  base\n",
      "spark-mllib_3.0-py39             a6082a27-5acc-5163-b02c-6b96916eb5e0  base\n",
      "runtime-22.1-py3.9-do            a7e7dbf1-1d03-5544-994d-e5ec845ce99a  base\n",
      "default_py3.8                    ab9e1b80-f2ce-592c-a7d2-4f2344f77194  base\n",
      "tensorflow_rt22.1-py3.9          acd9c798-6974-5d2f-a657-ce06e986df4d  base\n",
      "kernel-spark3.2-py3.9            ad7033ee-794e-58cf-812e-a95f4b64b207  base\n",
      "autoai-obm_2.0 with Spark 3.0    af10f35f-69fa-5d66-9bf5-acb58434263a  base\n",
      "default_py3.7_opence             c2057dd4-f42c-5f77-a02f-72bdbd3282c9  base\n",
      "tensorflow_2.1-py3.7             c4032338-2a40-500a-beef-b01ab2667e27  base\n",
      "do_py3.7_opence                  cc8f8976-b74a-551a-bb66-6377f8d865b4  base\n",
      "spark-mllib_3.3                  d11f2434-4fc7-58b7-8a62-755da64fdaf8  base\n",
      "autoai-kb_3.0-py3.6              d139f196-e04b-5d8b-9140-9a10ca1fa91a  base\n",
      "spark-mllib_3.0-py36             d82546d5-dd78-5fbb-9131-2ec309bc56ed  base\n",
      "autoai-kb_3.4-py3.8              da9b39c3-758c-5a4f-9cfd-457dd4d8c395  base\n",
      "kernel-spark3.2-r3.6             db2fe4d6-d641-5d05-9972-73c654c60e0a  base\n",
      "autoai-kb_rt22.1-py3.9           db6afe93-665f-5910-b117-d879897404d9  base\n",
      "tensorflow_rt22.1-py3.9-horovod  dda170cc-ca67-5da7-9b7a-cf84c6987fae  base\n",
      "autoai-ts_1.0-py3.7              deef04f0-0c42-5147-9711-89f9904299db  base\n",
      "tensorflow_2.1-py3.7-horovod     e384fce5-fdd1-53f8-bc71-11326c9c635f  base\n",
      "default_py3.7                    e4429883-c883-42b6-87a8-f419d64088cd  base\n",
      "do_22.1                          e51999ba-6452-5f1f-8287-17228b88b652  base\n",
      "autoai-obm_3.2                   eae86aab-da30-5229-a6a6-1d0d4e368983  base\n",
      "tensorflow_rt22.2-py3.10         f65bd165-f057-55de-b5cb-f97cf2c0f393  base\n",
      "do_20.1                          f686cdd9-7904-5f9d-a732-01b0d6b10dc5  base\n",
      "pytorch-onnx_rt22.2-py3.10-edt   f8a05d07-e7cd-57bb-a10b-23f1d4b837ac  base\n",
      "scikit-learn_0.19-py3.6          f963fa9d-4bb7-5652-9c5d-8d9289ef6ad9  base\n",
      "tensorflow_2.4-py3.8             fe185c44-9a99-5425-986b-59bd1d2eda46  base\n",
      "-------------------------------  ------------------------------------  ----\n"
     ]
    }
   ],
   "source": [
    "wml_client.software_specifications.list(500)"
   ]
  },
  {
   "cell_type": "markdown",
   "metadata": {
    "id": "wo63fmHrgZ1l"
   },
   "source": [
    "## Creating Deployment Space"
   ]
  },
  {
   "cell_type": "code",
   "execution_count": 65,
   "metadata": {},
   "outputs": [
    {
     "data": {
      "text/plain": [
       "'1.0.2'"
      ]
     },
     "execution_count": 65,
     "metadata": {},
     "output_type": "execute_result"
    }
   ],
   "source": [
    "import sklearn\n",
    "sklearn.__version__"
   ]
  },
  {
   "cell_type": "code",
   "execution_count": 66,
   "metadata": {},
   "outputs": [],
   "source": [
    "MODEL_NAME=\"ibmdeployment\"\n",
    "DEPLOYEMENT_NAME=\"multilenear demo\"\n",
    "DEMO_MODEL= \"model\""
   ]
  },
  {
   "cell_type": "code",
   "execution_count": 67,
   "metadata": {},
   "outputs": [],
   "source": [
    "software_spec_uid=wml_client.software_specifications.get_id_by_name('runtime-22.1-py3.9')"
   ]
  },
  {
   "cell_type": "code",
   "execution_count": 68,
   "metadata": {},
   "outputs": [],
   "source": [
    "software_spec_uid = wml_client.software_specifications.get_uid_by_name(\"runtime-22.1-py3.9\")\n",
    "software_spec_uid\n",
    "model_props={\n",
    "    wml_client.repository.ModelMetaNames.NAME: \"MODEL_NAME\",\n",
    "    wml_client.repository.ModelMetaNames.TYPE: \"scikit-learn_1.0\",\n",
    "    wml_client.repository.ModelMetaNames.SOFTWARE_SPEC_UID: software_spec_uid\n",
    "}"
   ]
  },
  {
   "cell_type": "code",
   "execution_count": 69,
   "metadata": {},
   "outputs": [
    {
     "name": "stderr",
     "output_type": "stream",
     "text": [
      "Failure during getting trained models details. (GET https://us-south.ml.cloud.ibm.com/ml/v4/trainings/model?version=2021-06-24&space_id=5e27b477-1bb8-4a48-8b0f-81b3147dffe1)\n",
      "Status code: 404, body: {\"trace\":\"b7287e057e8a136149bddb5476089afd\",\"errors\":[{\"code\":\"training_job_run_not_found\",\"message\":\"Backend persistence error (404): GET request failed\",\"more_info\":\"http://watson-ml-api.mybluemix.net/\"}],\"status_code\":\"404\"}\n",
      "Unexpected type of 'model parameter', expected: model path / training_id, actual: 'model'.\n"
     ]
    },
    {
     "ename": "UnexpectedType",
     "evalue": "Unexpected type of 'model parameter', expected: model path / training_id, actual: 'model'.",
     "output_type": "error",
     "traceback": [
      "\u001b[0;31m---------------------------------------------------------------------------\u001b[0m",
      "\u001b[0;31mApiRequestFailure\u001b[0m                         Traceback (most recent call last)",
      "\u001b[0;32m/opt/conda/envs/Python-3.9/lib/python3.9/site-packages/ibm_watson_machine_learning/models.py\u001b[0m in \u001b[0;36m_publish_from_training\u001b[0;34m(self, model_uid, meta_props, subtrainingId, feature_names, label_column_names, round_number)\u001b[0m\n\u001b[1;32m    529\u001b[0m         \u001b[0;32mtry\u001b[0m\u001b[0;34m:\u001b[0m\u001b[0;34m\u001b[0m\u001b[0;34m\u001b[0m\u001b[0m\n\u001b[0;32m--> 530\u001b[0;31m             \u001b[0mdetails\u001b[0m \u001b[0;34m=\u001b[0m \u001b[0mself\u001b[0m\u001b[0;34m.\u001b[0m\u001b[0m_client\u001b[0m\u001b[0;34m.\u001b[0m\u001b[0mtraining\u001b[0m\u001b[0;34m.\u001b[0m\u001b[0mget_details\u001b[0m\u001b[0;34m(\u001b[0m\u001b[0mmodel_uid\u001b[0m\u001b[0;34m,\u001b[0m \u001b[0m_internal\u001b[0m\u001b[0;34m=\u001b[0m\u001b[0;32mTrue\u001b[0m\u001b[0;34m)\u001b[0m\u001b[0;34m\u001b[0m\u001b[0;34m\u001b[0m\u001b[0m\n\u001b[0m\u001b[1;32m    531\u001b[0m \u001b[0;34m\u001b[0m\u001b[0m\n",
      "\u001b[0;32m/opt/conda/envs/Python-3.9/lib/python3.9/site-packages/ibm_watson_machine_learning/training.py\u001b[0m in \u001b[0;36mget_details\u001b[0;34m(self, training_uid, limit, asynchronous, get_all, training_type, state, tag_value, training_definition_id, _internal)\u001b[0m\n\u001b[1;32m    165\u001b[0m         \u001b[0;32melse\u001b[0m\u001b[0;34m:\u001b[0m\u001b[0;34m\u001b[0m\u001b[0;34m\u001b[0m\u001b[0m\n\u001b[0;32m--> 166\u001b[0;31m             \u001b[0mdetails\u001b[0m \u001b[0;34m=\u001b[0m \u001b[0mself\u001b[0m\u001b[0;34m.\u001b[0m\u001b[0m_get_artifact_details\u001b[0m\u001b[0;34m(\u001b[0m\u001b[0murl\u001b[0m\u001b[0;34m,\u001b[0m \u001b[0mtraining_uid\u001b[0m\u001b[0;34m,\u001b[0m \u001b[0mlimit\u001b[0m\u001b[0;34m,\u001b[0m \u001b[0;34m'trained models'\u001b[0m\u001b[0;34m)\u001b[0m\u001b[0;34m\u001b[0m\u001b[0;34m\u001b[0m\u001b[0m\n\u001b[0m\u001b[1;32m    167\u001b[0m \u001b[0;34m\u001b[0m\u001b[0m\n",
      "\u001b[0;32m/opt/conda/envs/Python-3.9/lib/python3.9/site-packages/ibm_watson_machine_learning/wml_resource.py\u001b[0m in \u001b[0;36m_get_artifact_details\u001b[0;34m(self, base_url, uid, limit, resource_name, summary, pre_defined, query_params, _async, _all)\u001b[0m\n\u001b[1;32m    225\u001b[0m \u001b[0;34m\u001b[0m\u001b[0m\n\u001b[0;32m--> 226\u001b[0;31m             \u001b[0;32mreturn\u001b[0m \u001b[0mself\u001b[0m\u001b[0;34m.\u001b[0m\u001b[0m_handle_response\u001b[0m\u001b[0;34m(\u001b[0m\u001b[0;36m200\u001b[0m\u001b[0;34m,\u001b[0m \u001b[0mop_name\u001b[0m\u001b[0;34m,\u001b[0m \u001b[0mresponse_get\u001b[0m\u001b[0;34m)\u001b[0m\u001b[0;34m\u001b[0m\u001b[0;34m\u001b[0m\u001b[0m\n\u001b[0m\u001b[1;32m    227\u001b[0m \u001b[0;34m\u001b[0m\u001b[0m\n",
      "\u001b[0;32m/opt/conda/envs/Python-3.9/lib/python3.9/site-packages/ibm_watson_machine_learning/wml_resource.py\u001b[0m in \u001b[0;36m_handle_response\u001b[0;34m(self, expected_status_code, operationName, response, json_response)\u001b[0m\n\u001b[1;32m     72\u001b[0m         \u001b[0;32melse\u001b[0m\u001b[0;34m:\u001b[0m\u001b[0;34m\u001b[0m\u001b[0;34m\u001b[0m\u001b[0m\n\u001b[0;32m---> 73\u001b[0;31m             \u001b[0;32mraise\u001b[0m \u001b[0mApiRequestFailure\u001b[0m\u001b[0;34m(\u001b[0m\u001b[0;34mu'Failure during {}.'\u001b[0m\u001b[0;34m.\u001b[0m\u001b[0mformat\u001b[0m\u001b[0;34m(\u001b[0m\u001b[0moperationName\u001b[0m\u001b[0;34m)\u001b[0m\u001b[0;34m,\u001b[0m \u001b[0mresponse\u001b[0m\u001b[0;34m)\u001b[0m\u001b[0;34m\u001b[0m\u001b[0;34m\u001b[0m\u001b[0m\n\u001b[0m\u001b[1;32m     74\u001b[0m \u001b[0;34m\u001b[0m\u001b[0m\n",
      "\u001b[0;31mApiRequestFailure\u001b[0m: Failure during getting trained models details. (GET https://us-south.ml.cloud.ibm.com/ml/v4/trainings/model?version=2021-06-24&space_id=5e27b477-1bb8-4a48-8b0f-81b3147dffe1)\nStatus code: 404, body: {\"trace\":\"b7287e057e8a136149bddb5476089afd\",\"errors\":[{\"code\":\"training_job_run_not_found\",\"message\":\"Backend persistence error (404): GET request failed\",\"more_info\":\"http://watson-ml-api.mybluemix.net/\"}],\"status_code\":\"404\"}",
      "\nDuring handling of the above exception, another exception occurred:\n",
      "\u001b[0;31mUnexpectedType\u001b[0m                            Traceback (most recent call last)",
      "\u001b[0;32m/tmp/wsuser/ipykernel_165/432897849.py\u001b[0m in \u001b[0;36m<module>\u001b[0;34m\u001b[0m\n\u001b[1;32m      1\u001b[0m \u001b[0;31m#Save model\u001b[0m\u001b[0;34m\u001b[0m\u001b[0;34m\u001b[0m\u001b[0m\n\u001b[0;32m----> 2\u001b[0;31m model_details = wml_client.repository.store_model(\n\u001b[0m\u001b[1;32m      3\u001b[0m     \u001b[0mmodel\u001b[0m\u001b[0;34m=\u001b[0m\u001b[0mDEMO_MODEL\u001b[0m\u001b[0;34m,\u001b[0m\u001b[0;34m\u001b[0m\u001b[0;34m\u001b[0m\u001b[0m\n\u001b[1;32m      4\u001b[0m     \u001b[0mmeta_props\u001b[0m\u001b[0;34m=\u001b[0m\u001b[0mmodel_props\u001b[0m\u001b[0;34m,\u001b[0m\u001b[0;34m\u001b[0m\u001b[0;34m\u001b[0m\u001b[0m\n\u001b[1;32m      5\u001b[0m     \u001b[0mtraining_data\u001b[0m\u001b[0;34m=\u001b[0m\u001b[0;34m\"x_train\"\u001b[0m\u001b[0;34m,\u001b[0m\u001b[0;34m\u001b[0m\u001b[0;34m\u001b[0m\u001b[0m\n",
      "\u001b[0;32m/opt/conda/envs/Python-3.9/lib/python3.9/site-packages/ibm_watson_machine_learning/repository.py\u001b[0m in \u001b[0;36mstore_model\u001b[0;34m(self, model, meta_props, training_data, training_target, pipeline, feature_names, label_column_names, subtrainingId, round_number, experiment_metadata)\u001b[0m\n\u001b[1;32m    410\u001b[0m             \"\"\"\n\u001b[1;32m    411\u001b[0m \u001b[0;34m\u001b[0m\u001b[0m\n\u001b[0;32m--> 412\u001b[0;31m         \u001b[0;32mreturn\u001b[0m \u001b[0mself\u001b[0m\u001b[0;34m.\u001b[0m\u001b[0m_client\u001b[0m\u001b[0;34m.\u001b[0m\u001b[0m_models\u001b[0m\u001b[0;34m.\u001b[0m\u001b[0mstore\u001b[0m\u001b[0;34m(\u001b[0m\u001b[0mmodel\u001b[0m\u001b[0;34m,\u001b[0m \u001b[0mmeta_props\u001b[0m\u001b[0;34m=\u001b[0m\u001b[0mmeta_props\u001b[0m\u001b[0;34m,\u001b[0m \u001b[0mtraining_data\u001b[0m\u001b[0;34m=\u001b[0m\u001b[0mtraining_data\u001b[0m\u001b[0;34m,\u001b[0m \u001b[0mtraining_target\u001b[0m\u001b[0;34m=\u001b[0m\u001b[0mtraining_target\u001b[0m\u001b[0;34m,\u001b[0m \u001b[0mpipeline\u001b[0m\u001b[0;34m=\u001b[0m\u001b[0mpipeline\u001b[0m\u001b[0;34m,\u001b[0m \u001b[0mfeature_names\u001b[0m\u001b[0;34m=\u001b[0m\u001b[0mfeature_names\u001b[0m\u001b[0;34m,\u001b[0m \u001b[0mlabel_column_names\u001b[0m\u001b[0;34m=\u001b[0m\u001b[0mlabel_column_names\u001b[0m\u001b[0;34m,\u001b[0m\u001b[0msubtrainingId\u001b[0m\u001b[0;34m=\u001b[0m\u001b[0msubtrainingId\u001b[0m\u001b[0;34m,\u001b[0m\u001b[0mround_number\u001b[0m\u001b[0;34m=\u001b[0m\u001b[0mround_number\u001b[0m\u001b[0;34m,\u001b[0m\u001b[0mexperiment_metadata\u001b[0m\u001b[0;34m=\u001b[0m\u001b[0mexperiment_metadata\u001b[0m\u001b[0;34m)\u001b[0m\u001b[0;34m\u001b[0m\u001b[0;34m\u001b[0m\u001b[0m\n\u001b[0m\u001b[1;32m    413\u001b[0m \u001b[0;34m\u001b[0m\u001b[0m\n\u001b[1;32m    414\u001b[0m     \u001b[0;34m@\u001b[0m\u001b[0mdocstring_parameter\u001b[0m\u001b[0;34m(\u001b[0m\u001b[0;34m{\u001b[0m\u001b[0;34m'str_type'\u001b[0m\u001b[0;34m:\u001b[0m \u001b[0mSTR_TYPE_NAME\u001b[0m\u001b[0;34m}\u001b[0m\u001b[0;34m)\u001b[0m\u001b[0;34m\u001b[0m\u001b[0;34m\u001b[0m\u001b[0m\n",
      "\u001b[0;32m/opt/conda/envs/Python-3.9/lib/python3.9/site-packages/ibm_watson_machine_learning/models.py\u001b[0m in \u001b[0;36mstore\u001b[0;34m(self, model, meta_props, training_data, training_target, pipeline, version, artifactid, feature_names, label_column_names, subtrainingId, round_number, experiment_metadata)\u001b[0m\n\u001b[1;32m   1646\u001b[0m                                                       label_column_names=label_column_names)\n\u001b[1;32m   1647\u001b[0m             \u001b[0;32melse\u001b[0m\u001b[0;34m:\u001b[0m\u001b[0;34m\u001b[0m\u001b[0;34m\u001b[0m\u001b[0m\n\u001b[0;32m-> 1648\u001b[0;31m                  saved_model = self._publish_from_training(model_uid=model, meta_props=meta_props,\n\u001b[0m\u001b[1;32m   1649\u001b[0m                                                            \u001b[0msubtrainingId\u001b[0m\u001b[0;34m=\u001b[0m\u001b[0msubtrainingId\u001b[0m\u001b[0;34m,\u001b[0m \u001b[0mfeature_names\u001b[0m\u001b[0;34m=\u001b[0m\u001b[0mfeature_names\u001b[0m\u001b[0;34m,\u001b[0m\u001b[0;34m\u001b[0m\u001b[0;34m\u001b[0m\u001b[0m\n\u001b[1;32m   1650\u001b[0m                                                            label_column_names=label_column_names, round_number=round_number)\n",
      "\u001b[0;32m/opt/conda/envs/Python-3.9/lib/python3.9/site-packages/ibm_watson_machine_learning/models.py\u001b[0m in \u001b[0;36m_publish_from_training\u001b[0;34m(self, model_uid, meta_props, subtrainingId, feature_names, label_column_names, round_number)\u001b[0m\n\u001b[1;32m    531\u001b[0m \u001b[0;34m\u001b[0m\u001b[0m\n\u001b[1;32m    532\u001b[0m         \u001b[0;32mexcept\u001b[0m \u001b[0mApiRequestFailure\u001b[0m \u001b[0;32mas\u001b[0m \u001b[0me\u001b[0m\u001b[0;34m:\u001b[0m\u001b[0;34m\u001b[0m\u001b[0;34m\u001b[0m\u001b[0m\n\u001b[0;32m--> 533\u001b[0;31m             \u001b[0;32mraise\u001b[0m \u001b[0mUnexpectedType\u001b[0m\u001b[0;34m(\u001b[0m\u001b[0;34m'model parameter'\u001b[0m\u001b[0;34m,\u001b[0m \u001b[0;34m'model path / training_id'\u001b[0m\u001b[0;34m,\u001b[0m \u001b[0mmodel_uid\u001b[0m\u001b[0;34m)\u001b[0m\u001b[0;34m\u001b[0m\u001b[0;34m\u001b[0m\u001b[0m\n\u001b[0m\u001b[1;32m    534\u001b[0m         \u001b[0mmodel_type\u001b[0m \u001b[0;34m=\u001b[0m \u001b[0;34m\"\"\u001b[0m\u001b[0;34m\u001b[0m\u001b[0;34m\u001b[0m\u001b[0m\n\u001b[1;32m    535\u001b[0m \u001b[0;34m\u001b[0m\u001b[0m\n",
      "\u001b[0;31mUnexpectedType\u001b[0m: Unexpected type of 'model parameter', expected: model path / training_id, actual: 'model'."
     ]
    }
   ],
   "source": [
    "#Save model\n",
    "model_details = wml_client.repository.store_model(\n",
    "    model=DEMO_MODEL, \n",
    "    meta_props=model_props, \n",
    "    training_data=\"x_train\", \n",
    "    training_target=\"y_train\"\n",
    ")"
   ]
  },
  {
   "cell_type": "code",
   "execution_count": 70,
   "metadata": {},
   "outputs": [],
   "source": [
    "deployment_props={\n",
    "    wml_client.deployments.ConfigurationMetaNames.NAME:\"DEPLOYMENT_NAME\",\n",
    "    wml_client.deployments.ConfigurationMetaNames.ONLINE:{}\n",
    "}"
   ]
  },
  {
   "cell_type": "code",
   "execution_count": 71,
   "metadata": {},
   "outputs": [
    {
     "ename": "NameError",
     "evalue": "name 'model_details' is not defined",
     "output_type": "error",
     "traceback": [
      "\u001b[0;31m---------------------------------------------------------------------------\u001b[0m",
      "\u001b[0;31mNameError\u001b[0m                                 Traceback (most recent call last)",
      "\u001b[0;32m/tmp/wsuser/ipykernel_165/4048537101.py\u001b[0m in \u001b[0;36m<module>\u001b[0;34m\u001b[0m\n\u001b[0;32m----> 1\u001b[0;31m \u001b[0mmodel_details\u001b[0m\u001b[0;34m\u001b[0m\u001b[0;34m\u001b[0m\u001b[0m\n\u001b[0m",
      "\u001b[0;31mNameError\u001b[0m: name 'model_details' is not defined"
     ]
    }
   ],
   "source": [
    "model_details"
   ]
  },
  {
   "cell_type": "code",
   "execution_count": 72,
   "metadata": {},
   "outputs": [
    {
     "ename": "NameError",
     "evalue": "name 'model_details' is not defined",
     "output_type": "error",
     "traceback": [
      "\u001b[0;31m---------------------------------------------------------------------------\u001b[0m",
      "\u001b[0;31mNameError\u001b[0m                                 Traceback (most recent call last)",
      "\u001b[0;32m/tmp/wsuser/ipykernel_165/909062759.py\u001b[0m in \u001b[0;36m<module>\u001b[0;34m\u001b[0m\n\u001b[0;32m----> 1\u001b[0;31m \u001b[0mmodel_id\u001b[0m \u001b[0;34m=\u001b[0m \u001b[0mwml_client\u001b[0m\u001b[0;34m.\u001b[0m\u001b[0mrepository\u001b[0m\u001b[0;34m.\u001b[0m\u001b[0mget_model_id\u001b[0m\u001b[0;34m(\u001b[0m\u001b[0mmodel_details\u001b[0m\u001b[0;34m)\u001b[0m\u001b[0;34m\u001b[0m\u001b[0;34m\u001b[0m\u001b[0m\n\u001b[0m\u001b[1;32m      2\u001b[0m \u001b[0mmodel_id\u001b[0m\u001b[0;34m\u001b[0m\u001b[0;34m\u001b[0m\u001b[0m\n",
      "\u001b[0;31mNameError\u001b[0m: name 'model_details' is not defined"
     ]
    }
   ],
   "source": [
    "model_id = wml_client.repository.get_model_id(model_details)\n",
    "model_id"
   ]
  },
  {
   "cell_type": "markdown",
   "metadata": {
    "id": "atNMgO1vfzSF"
   },
   "source": [
    "## Testing"
   ]
  },
  {
   "cell_type": "code",
   "execution_count": 73,
   "metadata": {
    "colab": {
     "base_uri": "https://localhost:8080/",
     "height": 424
    },
    "id": "M0BygUNbZNhU",
    "outputId": "a80f1ae9-fe6d-495c-b499-f5e37e5aa818"
   },
   "outputs": [
    {
     "data": {
      "text/html": [
       "<div>\n",
       "<style scoped>\n",
       "    .dataframe tbody tr th:only-of-type {\n",
       "        vertical-align: middle;\n",
       "    }\n",
       "\n",
       "    .dataframe tbody tr th {\n",
       "        vertical-align: top;\n",
       "    }\n",
       "\n",
       "    .dataframe thead th {\n",
       "        text-align: right;\n",
       "    }\n",
       "</style>\n",
       "<table border=\"1\" class=\"dataframe\">\n",
       "  <thead>\n",
       "    <tr style=\"text-align: right;\">\n",
       "      <th></th>\n",
       "      <th>GRE Score</th>\n",
       "      <th>TOEFL Score</th>\n",
       "      <th>University Rating</th>\n",
       "      <th>SOP</th>\n",
       "      <th>LOR</th>\n",
       "      <th>CGPA</th>\n",
       "      <th>Research</th>\n",
       "    </tr>\n",
       "  </thead>\n",
       "  <tbody>\n",
       "    <tr>\n",
       "      <th>249</th>\n",
       "      <td>321</td>\n",
       "      <td>111</td>\n",
       "      <td>3</td>\n",
       "      <td>3.5</td>\n",
       "      <td>4.0</td>\n",
       "      <td>8.83</td>\n",
       "      <td>1</td>\n",
       "    </tr>\n",
       "    <tr>\n",
       "      <th>433</th>\n",
       "      <td>316</td>\n",
       "      <td>111</td>\n",
       "      <td>4</td>\n",
       "      <td>4.0</td>\n",
       "      <td>5.0</td>\n",
       "      <td>8.54</td>\n",
       "      <td>0</td>\n",
       "    </tr>\n",
       "    <tr>\n",
       "      <th>19</th>\n",
       "      <td>303</td>\n",
       "      <td>102</td>\n",
       "      <td>3</td>\n",
       "      <td>3.5</td>\n",
       "      <td>3.0</td>\n",
       "      <td>8.50</td>\n",
       "      <td>0</td>\n",
       "    </tr>\n",
       "    <tr>\n",
       "      <th>322</th>\n",
       "      <td>314</td>\n",
       "      <td>107</td>\n",
       "      <td>2</td>\n",
       "      <td>2.5</td>\n",
       "      <td>4.0</td>\n",
       "      <td>8.27</td>\n",
       "      <td>0</td>\n",
       "    </tr>\n",
       "    <tr>\n",
       "      <th>332</th>\n",
       "      <td>308</td>\n",
       "      <td>106</td>\n",
       "      <td>3</td>\n",
       "      <td>3.5</td>\n",
       "      <td>2.5</td>\n",
       "      <td>8.21</td>\n",
       "      <td>1</td>\n",
       "    </tr>\n",
       "    <tr>\n",
       "      <th>...</th>\n",
       "      <td>...</td>\n",
       "      <td>...</td>\n",
       "      <td>...</td>\n",
       "      <td>...</td>\n",
       "      <td>...</td>\n",
       "      <td>...</td>\n",
       "      <td>...</td>\n",
       "    </tr>\n",
       "    <tr>\n",
       "      <th>106</th>\n",
       "      <td>329</td>\n",
       "      <td>111</td>\n",
       "      <td>4</td>\n",
       "      <td>4.5</td>\n",
       "      <td>4.5</td>\n",
       "      <td>9.18</td>\n",
       "      <td>1</td>\n",
       "    </tr>\n",
       "    <tr>\n",
       "      <th>270</th>\n",
       "      <td>306</td>\n",
       "      <td>105</td>\n",
       "      <td>2</td>\n",
       "      <td>2.5</td>\n",
       "      <td>3.0</td>\n",
       "      <td>8.22</td>\n",
       "      <td>1</td>\n",
       "    </tr>\n",
       "    <tr>\n",
       "      <th>348</th>\n",
       "      <td>302</td>\n",
       "      <td>99</td>\n",
       "      <td>1</td>\n",
       "      <td>2.0</td>\n",
       "      <td>2.0</td>\n",
       "      <td>7.25</td>\n",
       "      <td>0</td>\n",
       "    </tr>\n",
       "    <tr>\n",
       "      <th>435</th>\n",
       "      <td>309</td>\n",
       "      <td>105</td>\n",
       "      <td>2</td>\n",
       "      <td>2.5</td>\n",
       "      <td>4.0</td>\n",
       "      <td>7.68</td>\n",
       "      <td>0</td>\n",
       "    </tr>\n",
       "    <tr>\n",
       "      <th>102</th>\n",
       "      <td>314</td>\n",
       "      <td>106</td>\n",
       "      <td>2</td>\n",
       "      <td>4.0</td>\n",
       "      <td>3.5</td>\n",
       "      <td>8.25</td>\n",
       "      <td>0</td>\n",
       "    </tr>\n",
       "  </tbody>\n",
       "</table>\n",
       "<p>400 rows × 7 columns</p>\n",
       "</div>"
      ],
      "text/plain": [
       "     GRE Score  TOEFL Score  University Rating  SOP  LOR  CGPA  Research\n",
       "249        321          111                  3  3.5  4.0  8.83         1\n",
       "433        316          111                  4  4.0  5.0  8.54         0\n",
       "19         303          102                  3  3.5  3.0  8.50         0\n",
       "322        314          107                  2  2.5  4.0  8.27         0\n",
       "332        308          106                  3  3.5  2.5  8.21         1\n",
       "..         ...          ...                ...  ...  ...   ...       ...\n",
       "106        329          111                  4  4.5  4.5  9.18         1\n",
       "270        306          105                  2  2.5  3.0  8.22         1\n",
       "348        302           99                  1  2.0  2.0  7.25         0\n",
       "435        309          105                  2  2.5  4.0  7.68         0\n",
       "102        314          106                  2  4.0  3.5  8.25         0\n",
       "\n",
       "[400 rows x 7 columns]"
      ]
     },
     "execution_count": 73,
     "metadata": {},
     "output_type": "execute_result"
    }
   ],
   "source": [
    "x_train"
   ]
  },
  {
   "cell_type": "code",
   "execution_count": 74,
   "metadata": {
    "colab": {
     "base_uri": "https://localhost:8080/",
     "height": 287
    },
    "id": "QEB1zc9GZNcx",
    "outputId": "4d80b435-4108-49b7-eaa3-f7d955c41e8a"
   },
   "outputs": [
    {
     "data": {
      "text/plain": [
       "array([[0.79319678],\n",
       "       [0.74507858],\n",
       "       [0.64401532],\n",
       "       [0.67274778],\n",
       "       [0.65094595],\n",
       "       [0.54916269],\n",
       "       [0.72581613],\n",
       "       [0.80517894],\n",
       "       [0.63303132],\n",
       "       [0.68811779],\n",
       "       [0.64924268],\n",
       "       [0.95289497],\n",
       "       [0.84653676],\n",
       "       [0.96863011],\n",
       "       [0.46641449],\n",
       "       [0.82149658],\n",
       "       [0.67146854],\n",
       "       [0.88635893],\n",
       "       [0.49256047],\n",
       "       [0.68574539],\n",
       "       [0.71763218],\n",
       "       [0.88677469],\n",
       "       [0.72363358],\n",
       "       [0.74858906],\n",
       "       [0.69122802],\n",
       "       [0.69069927],\n",
       "       [0.5691487 ],\n",
       "       [0.99211793],\n",
       "       [0.84286454],\n",
       "       [0.51255247],\n",
       "       [0.72510392],\n",
       "       [0.72307643],\n",
       "       [0.84332283],\n",
       "       [0.52085083],\n",
       "       [0.82678515],\n",
       "       [0.5026812 ],\n",
       "       [0.82394811],\n",
       "       [0.96025707],\n",
       "       [0.66361992],\n",
       "       [0.6781819 ],\n",
       "       [0.79599956],\n",
       "       [0.61913284],\n",
       "       [0.81894967],\n",
       "       [0.52916542],\n",
       "       [0.94791192],\n",
       "       [0.65537821],\n",
       "       [0.96318716],\n",
       "       [0.78234646],\n",
       "       [0.64301889],\n",
       "       [0.71935478],\n",
       "       [0.87419234],\n",
       "       [0.65730666],\n",
       "       [0.83087579],\n",
       "       [0.71648909],\n",
       "       [0.60138748],\n",
       "       [0.60657365],\n",
       "       [0.74877404],\n",
       "       [0.80630098],\n",
       "       [0.51262614],\n",
       "       [0.60414373],\n",
       "       [0.66883965],\n",
       "       [0.76083463],\n",
       "       [0.72623304],\n",
       "       [0.49360211],\n",
       "       [0.61831374],\n",
       "       [0.63486805],\n",
       "       [0.76056917],\n",
       "       [0.59943773],\n",
       "       [0.75467033],\n",
       "       [0.91950654],\n",
       "       [0.54002086],\n",
       "       [0.62369887],\n",
       "       [0.69231169],\n",
       "       [0.48584694],\n",
       "       [0.69087888],\n",
       "       [0.79102692],\n",
       "       [0.73642735],\n",
       "       [0.64185992],\n",
       "       [0.8084643 ],\n",
       "       [0.59044388],\n",
       "       [0.62762878],\n",
       "       [0.70015312],\n",
       "       [0.57640892],\n",
       "       [0.79002589],\n",
       "       [0.62004909],\n",
       "       [0.89121197],\n",
       "       [0.84949806],\n",
       "       [0.73647316],\n",
       "       [0.82421063],\n",
       "       [0.56189805],\n",
       "       [0.57892748],\n",
       "       [0.53502281],\n",
       "       [0.60638163],\n",
       "       [0.46973902],\n",
       "       [0.69029554],\n",
       "       [0.80200531],\n",
       "       [0.74422764],\n",
       "       [0.56530995],\n",
       "       [0.84717   ],\n",
       "       [0.51618836],\n",
       "       [0.77268396],\n",
       "       [0.8819175 ],\n",
       "       [0.80624079],\n",
       "       [0.79131364],\n",
       "       [0.69383671],\n",
       "       [0.73148304],\n",
       "       [0.73914607],\n",
       "       [0.76135759],\n",
       "       [0.73319311],\n",
       "       [0.561388  ],\n",
       "       [0.71377037],\n",
       "       [0.78356933],\n",
       "       [0.75013796],\n",
       "       [0.70343414],\n",
       "       [0.69242416],\n",
       "       [0.51964523],\n",
       "       [0.9390721 ],\n",
       "       [0.55209742],\n",
       "       [0.59095908],\n",
       "       [0.88296961],\n",
       "       [0.83789538],\n",
       "       [0.58886982],\n",
       "       [0.65058439],\n",
       "       [0.62120512],\n",
       "       [0.7747512 ],\n",
       "       [0.75463531],\n",
       "       [0.70538063],\n",
       "       [0.66421563],\n",
       "       [0.89814551],\n",
       "       [0.62444984],\n",
       "       [0.77380162],\n",
       "       [0.76291944],\n",
       "       [0.57461378],\n",
       "       [0.71540613],\n",
       "       [0.78940003],\n",
       "       [0.51126294],\n",
       "       [0.78499504],\n",
       "       [0.60888406],\n",
       "       [0.904824  ],\n",
       "       [0.77631694],\n",
       "       [0.70987061],\n",
       "       [0.68024714],\n",
       "       [0.76698175],\n",
       "       [0.73956852],\n",
       "       [0.77578538],\n",
       "       [0.69719627],\n",
       "       [0.96433444],\n",
       "       [0.51100888],\n",
       "       [0.62999914],\n",
       "       [0.63975794],\n",
       "       [0.84634718],\n",
       "       [0.70378435],\n",
       "       [0.62035499],\n",
       "       [0.68927635],\n",
       "       [0.83473184],\n",
       "       [0.62649735],\n",
       "       [0.66862613],\n",
       "       [0.83585435],\n",
       "       [0.82771935],\n",
       "       [0.8147665 ],\n",
       "       [0.85409661],\n",
       "       [0.65127416],\n",
       "       [0.50702149],\n",
       "       [0.58558771],\n",
       "       [0.99345098],\n",
       "       [0.53364134],\n",
       "       [0.91416354],\n",
       "       [0.86003939],\n",
       "       [0.60341257],\n",
       "       [0.64760852],\n",
       "       [0.74666409],\n",
       "       [1.0035135 ],\n",
       "       [0.71824402],\n",
       "       [0.77521023],\n",
       "       [0.88066314],\n",
       "       [0.78450313],\n",
       "       [0.58205689],\n",
       "       [0.81251592],\n",
       "       [0.94975279],\n",
       "       [0.67003085],\n",
       "       [0.71418206],\n",
       "       [0.68529461],\n",
       "       [0.64555258],\n",
       "       [0.67153384],\n",
       "       [0.92699136],\n",
       "       [0.50403604],\n",
       "       [0.7551202 ],\n",
       "       [0.87703564],\n",
       "       [0.469409  ],\n",
       "       [0.54238578],\n",
       "       [0.65065032],\n",
       "       [0.65481859],\n",
       "       [0.81293279],\n",
       "       [0.69952349],\n",
       "       [0.66876726],\n",
       "       [0.626965  ],\n",
       "       [0.82853566],\n",
       "       [0.85176402],\n",
       "       [0.83321231],\n",
       "       [0.72250266],\n",
       "       [0.79671906],\n",
       "       [0.59630787],\n",
       "       [0.8450172 ],\n",
       "       [0.83730965],\n",
       "       [0.68325331],\n",
       "       [0.64272249],\n",
       "       [0.79305654],\n",
       "       [0.65925991],\n",
       "       [0.78807076],\n",
       "       [0.95249505],\n",
       "       [0.61178768],\n",
       "       [0.60677588],\n",
       "       [0.78964835],\n",
       "       [0.91376121],\n",
       "       [0.74153087],\n",
       "       [0.88695162],\n",
       "       [0.57251824],\n",
       "       [0.93463733],\n",
       "       [0.62179374],\n",
       "       [0.85523174],\n",
       "       [0.78607182],\n",
       "       [0.90853341],\n",
       "       [0.88245245],\n",
       "       [0.7633177 ],\n",
       "       [0.78598087],\n",
       "       [0.78202201],\n",
       "       [0.71696802],\n",
       "       [0.78736871],\n",
       "       [0.73735849],\n",
       "       [0.61142591],\n",
       "       [0.52989774],\n",
       "       [0.85571067],\n",
       "       [0.85449761],\n",
       "       [0.42619563],\n",
       "       [0.63943023],\n",
       "       [0.89559163],\n",
       "       [0.71766671],\n",
       "       [0.63800712],\n",
       "       [0.72361962],\n",
       "       [0.55651256],\n",
       "       [0.61886687],\n",
       "       [0.52475489],\n",
       "       [0.64546622],\n",
       "       [0.51990669],\n",
       "       [0.63202321],\n",
       "       [0.66191782],\n",
       "       [0.69899586],\n",
       "       [0.81740805],\n",
       "       [0.59303064],\n",
       "       [0.74409424],\n",
       "       [0.8315041 ],\n",
       "       [0.60857126],\n",
       "       [0.63586783],\n",
       "       [0.67453079],\n",
       "       [0.75826596],\n",
       "       [0.73339372],\n",
       "       [0.68432846],\n",
       "       [0.89379296],\n",
       "       [0.96975488],\n",
       "       [0.88448966],\n",
       "       [0.90398702],\n",
       "       [0.5486129 ],\n",
       "       [0.90620257],\n",
       "       [0.61790592],\n",
       "       [0.94180672],\n",
       "       [0.92997473],\n",
       "       [0.68037851],\n",
       "       [0.52790614],\n",
       "       [0.70780751],\n",
       "       [0.94582459],\n",
       "       [0.51654417],\n",
       "       [0.90609664],\n",
       "       [0.71799434],\n",
       "       [0.83181306],\n",
       "       [0.77506528],\n",
       "       [0.70059617],\n",
       "       [0.93725098],\n",
       "       [0.83048702],\n",
       "       [0.6422304 ],\n",
       "       [0.76598114],\n",
       "       [0.82150918],\n",
       "       [0.59062954],\n",
       "       [0.55160224],\n",
       "       [0.5543143 ],\n",
       "       [0.58941179],\n",
       "       [0.75475339],\n",
       "       [0.60134042],\n",
       "       [0.64251326],\n",
       "       [0.65287234],\n",
       "       [0.64791775],\n",
       "       [0.66370182],\n",
       "       [0.82140977],\n",
       "       [0.86995358],\n",
       "       [0.86001522],\n",
       "       [0.68609333],\n",
       "       [0.62168166],\n",
       "       [0.66140018],\n",
       "       [0.93806017],\n",
       "       [0.85628425],\n",
       "       [0.64830816],\n",
       "       [0.97746989],\n",
       "       [0.66788797],\n",
       "       [0.4771869 ],\n",
       "       [0.71855646],\n",
       "       [0.77408956],\n",
       "       [0.65790513],\n",
       "       [0.74595559],\n",
       "       [0.70136897],\n",
       "       [0.69501688],\n",
       "       [0.71415248],\n",
       "       [0.49706237],\n",
       "       [0.84868886],\n",
       "       [0.8244388 ],\n",
       "       [0.66073623],\n",
       "       [0.84458532],\n",
       "       [0.69397601],\n",
       "       [0.91280529],\n",
       "       [0.7819282 ],\n",
       "       [0.69896987],\n",
       "       [0.73788916],\n",
       "       [0.80511232],\n",
       "       [0.77783892],\n",
       "       [0.78709664],\n",
       "       [0.76107872],\n",
       "       [0.62502988],\n",
       "       [0.64220614],\n",
       "       [0.51552169],\n",
       "       [0.95297074],\n",
       "       [0.75109037],\n",
       "       [0.73344234],\n",
       "       [0.72327195],\n",
       "       [0.53611498],\n",
       "       [0.7745246 ],\n",
       "       [0.64323558],\n",
       "       [0.73266403],\n",
       "       [0.51727259],\n",
       "       [0.76272915],\n",
       "       [0.62008838],\n",
       "       [0.64339428],\n",
       "       [0.60941013],\n",
       "       [0.65869232],\n",
       "       [0.62105952],\n",
       "       [0.59029737],\n",
       "       [0.65692725],\n",
       "       [0.791601  ],\n",
       "       [0.58833919],\n",
       "       [0.88508342],\n",
       "       [0.81773995],\n",
       "       [0.7864888 ],\n",
       "       [0.78337218],\n",
       "       [0.81831486],\n",
       "       [0.66568524],\n",
       "       [0.63417823],\n",
       "       [0.68194087],\n",
       "       [0.53599171],\n",
       "       [0.81242622],\n",
       "       [0.87753826],\n",
       "       [0.85672386],\n",
       "       [0.99224732],\n",
       "       [0.91522385],\n",
       "       [0.59160664],\n",
       "       [0.43717271],\n",
       "       [0.80968944],\n",
       "       [0.452599  ],\n",
       "       [0.85733109],\n",
       "       [0.70730453],\n",
       "       [0.70669471],\n",
       "       [0.58139224],\n",
       "       [0.87316004],\n",
       "       [0.57820416],\n",
       "       [0.90490795],\n",
       "       [0.85488862],\n",
       "       [0.83523127],\n",
       "       [0.98175209],\n",
       "       [0.6368223 ],\n",
       "       [0.61796838],\n",
       "       [0.61448156],\n",
       "       [0.76431017],\n",
       "       [0.68727632],\n",
       "       [0.66992581],\n",
       "       [0.96531792],\n",
       "       [0.91068827],\n",
       "       [0.66491665],\n",
       "       [0.81059061],\n",
       "       [0.94695923],\n",
       "       [0.66575207],\n",
       "       [0.68129168],\n",
       "       [0.77742757],\n",
       "       [0.92352786],\n",
       "       [0.74014032],\n",
       "       [0.93752435],\n",
       "       [0.82640054],\n",
       "       [0.61927034],\n",
       "       [0.88749631],\n",
       "       [0.96245554],\n",
       "       [0.86505825],\n",
       "       [0.64844297],\n",
       "       [0.46683829],\n",
       "       [0.58819286],\n",
       "       [0.66160291]])"
      ]
     },
     "execution_count": 74,
     "metadata": {},
     "output_type": "execute_result"
    }
   ],
   "source": [
    "\n",
    "multiple_lin_reg.predict(x_train)"
   ]
  },
  {
   "cell_type": "markdown",
   "metadata": {
    "id": "AlyXC0Bffes8"
   },
   "source": [
    "## UASEP Multiple Linear Regression Model Deployment Test"
   ]
  },
  {
   "cell_type": "code",
   "execution_count": 39,
   "metadata": {
    "colab": {
     "base_uri": "https://localhost:8080/"
    },
    "id": "Xh3xxFN6ZNSm",
    "outputId": "1a31365d-7b7d-4395-b917-a73e2296db93"
   },
   "outputs": [
    {
     "name": "stdout",
     "output_type": "stream",
     "text": [
      "Scoring response\n",
      "{'predictions': [{'fields': ['prediction'], 'values': [[[0.8448151378927107]]]}]}\n"
     ]
    }
   ],
   "source": [
    "import requests\n",
    "\n",
    "# NOTE: you must manually set API_KEY below using information retrieved from your IBM Cloud account.\n",
    "API_KEY = \"O-xbXqcCv2iPGZfem_krJ8KX-kQ2h5bKybYpPwY-gOfl\"\n",
    "token_response = requests.post('https://iam.cloud.ibm.com/identity/token', data={\"apikey\":\n",
    " API_KEY, \"grant_type\": 'urn:ibm:params:oauth:grant-type:apikey'})\n",
    "mltoken = token_response.json()[\"access_token\"]\n",
    "\n",
    "header = {'Content-Type': 'application/json', 'Authorization': 'Bearer ' + mltoken}\n",
    "\n",
    "# NOTE: manually define and pass the array(s) of values to be scored in the next line\n",
    "payload_scoring = {\"input_data\": [{\"field\": [[\"GRE Score\",\"TOEFL Score\",\"University Rating\",\"SOP\",\"LOR \",\"CGPA\", \"Research\"]], \"values\": [[326, 110, 2, 3.5, 4, 9.23, 1]]}]}\n",
    "\n",
    "response_scoring = requests.post('https://us-south.ml.cloud.ibm.com/ml/v4/deployments/uaep_deployment/predictions?version=2022-11-12', json=payload_scoring,\n",
    " headers={'Authorization': 'Bearer ' + mltoken})\n",
    "print(\"Scoring response\")\n",
    "print(response_scoring.json())"
   ]
  },
  {
   "cell_type": "code",
   "execution_count": 40,
   "metadata": {
    "colab": {
     "base_uri": "https://localhost:8080/"
    },
    "id": "JTYEYlCXZNH0",
    "outputId": "000d6953-753e-45d6-802a-bb2a85aefc76"
   },
   "outputs": [
    {
     "data": {
      "text/plain": [
       "0.8448151378927107"
      ]
     },
     "execution_count": 40,
     "metadata": {},
     "output_type": "execute_result"
    }
   ],
   "source": [
    "probability = response_scoring.json()['predictions'][0]['values'][0][0][0]\n",
    "probability"
   ]
  },
  {
   "cell_type": "code",
   "execution_count": 40,
   "metadata": {
    "id": "j49PJxAhZNDX"
   },
   "outputs": [],
   "source": []
  },
  {
   "cell_type": "code",
   "execution_count": 40,
   "metadata": {
    "id": "dVFsFeyrZM-K"
   },
   "outputs": [],
   "source": []
  }
 ],
 "metadata": {
  "colab": {
   "provenance": []
  },
  "kernelspec": {
   "display_name": "Python 3.9",
   "language": "python",
   "name": "python3"
  },
  "language_info": {
   "codemirror_mode": {
    "name": "ipython",
    "version": 3
   },
   "file_extension": ".py",
   "mimetype": "text/x-python",
   "name": "python",
   "nbconvert_exporter": "python",
   "pygments_lexer": "ipython3",
   "version": "3.9.13"
  }
 },
 "nbformat": 4,
 "nbformat_minor": 1
}
